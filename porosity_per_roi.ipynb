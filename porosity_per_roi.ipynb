{
 "cells": [
  {
   "cell_type": "markdown",
   "id": "57af8a7d",
   "metadata": {},
   "source": [
    "### 3rd Step of the Analysis pipeline\n",
    "# Porosity per ROI\n",
    "For each roi from a sample (selected manually) porosity parameters are calculated using pypore3d and saved indivisually as the same name to the drive.\n"
   ]
  },
  {
   "cell_type": "code",
   "execution_count": 1,
   "id": "c5aeea23",
   "metadata": {},
   "outputs": [],
   "source": [
    "import os \n",
    "import numpy as np \n",
    "import matplotlib.pyplot as plt\n",
    "import json \n",
    "import ctypes \n",
    "import tifffile \n",
    "\n",
    "from scipy import ndimage as nd\n",
    "\n",
    "import pypore3d \n",
    "from pypore3d import *\n",
    "from pypore3d.p3dFiltPy import *\n",
    "from pypore3d.p3dBlobPy import *\n",
    "from pypore3d.p3dSkelPy import *\n",
    "from pypore3d.p3dSITKPy import *\n",
    "\n",
    "\n",
    "\n",
    "from glob import glob \n",
    "from tqdm import tqdm \n",
    "\n",
    "from poreUtils import *"
   ]
  },
  {
   "cell_type": "code",
   "execution_count": 2,
   "id": "1800b228",
   "metadata": {},
   "outputs": [],
   "source": [
    "data_dir = 'E:\\\\sagar\\\\Data\\\\MD_1264_A1_1_Z6.6mm\\\\result\\\\'\n",
    "#data_dir = 'D:\\\\sagar\\\\Data\\\\MD_1264_A18\\\\'\n",
    "# roi specification \n",
    "x, y, z = 300, 300, 300\n",
    "res = 0.002 # 2 micron \n",
    "\n",
    "rois = glob(data_dir + '*.raw')"
   ]
  },
  {
   "cell_type": "code",
   "execution_count": 3,
   "id": "76c837ab",
   "metadata": {},
   "outputs": [
    {
     "name": "stderr",
     "output_type": "stream",
     "text": [
      "100%|██████████████████████████████████████████████████████████████████████████████████| 18/18 [02:21<00:00,  7.87s/it]\n"
     ]
    }
   ],
   "source": [
    "\n",
    "for roi in tqdm(rois):\n",
    "    result = {}\n",
    "    # Reading the file \n",
    "    volc = py_p3dReadRaw8(roi, x, y, z)\n",
    "    # Appying Median filter for removing noise\n",
    "    volc = py_p3dMedianFilter8(volc, x, y, z, width=3)\n",
    "    # convert it to numpy array for manual thresholding and a bit processing which are easy in numpy array\n",
    "    vol = swigObjt2uint8Array(volc, x, y, z)\n",
    "    th_vol = vol < 55 \n",
    "    th_vol = nd.binary_closing(th_vol, np.ones((3,3,3)))\n",
    "    # From binary to 0-255\n",
    "    th_vol = norm8bit(th_vol, 0, 1)\n",
    "    # Converting back to py_p3d data format to be able to use the functionality \n",
    "    th_vol.tofile('th_vol.raw')\n",
    "    th_volc = py_p3dReadRaw8('th_vol.raw', x, y, z)\n",
    "    os.remove('th_vol.raw')\n",
    "    \n",
    "    # Basic Analysis\n",
    "    basic_stats = py_p3dBasicAnalysis(th_volc, x, y, z, resolution=res)\n",
    "    basic_anaysis = formatBasicStats(basic_stats, definition=True)\n",
    "    result['basic_analysis'] = basic_anaysis\n",
    "    \n",
    "    # Anisotropy Analysis\n",
    "    anisotropy_stats = py_p3dAnisotropyAnalysis(th_volc, x, y, z, resolution=res)\n",
    "    anisotropy_analysis = formatAnisotropyStats(anisotropy_stats, definition=True)\n",
    "    result['anisotropy_analysis'] = anisotropy_analysis\n",
    "    \n",
    "    # Blob Analysis \n",
    "    blob_stats, _, _ = py_p3dBlobAnalysis(th_volc, x, y, z, resolution=res)\n",
    "    blob_analysis = formatBlobStats(blob_stats, definition=True)\n",
    "    result['blob_analysis'] = blob_analysis\n",
    "    \n",
    "    jsonString = json.dumps(result)\n",
    "    jsonFile = open(roi.split('_8bit')[0] + '.json', \"w\")\n",
    "    jsonFile.write(jsonString)\n",
    "    jsonFile.close()\n",
    "    \n",
    "    "
   ]
  },
  {
   "cell_type": "code",
   "execution_count": null,
   "id": "ce79138c",
   "metadata": {},
   "outputs": [],
   "source": []
  }
 ],
 "metadata": {
  "kernelspec": {
   "display_name": "Python 3 (ipykernel)",
   "language": "python",
   "name": "python3"
  },
  "language_info": {
   "codemirror_mode": {
    "name": "ipython",
    "version": 3
   },
   "file_extension": ".py",
   "mimetype": "text/x-python",
   "name": "python",
   "nbconvert_exporter": "python",
   "pygments_lexer": "ipython3",
   "version": "3.9.7"
  }
 },
 "nbformat": 4,
 "nbformat_minor": 5
}
