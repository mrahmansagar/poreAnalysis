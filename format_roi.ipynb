{
 "cells": [
  {
   "cell_type": "code",
   "execution_count": 9,
   "id": "733d3977",
   "metadata": {},
   "outputs": [],
   "source": [
    "# import neccessary libraries \n",
    "import tifffile\n",
    "import numpy as np\n",
    "from PIL import Image\n",
    "import os \n",
    "from tqdm import tqdm \n",
    "from tkinter import Tcl\n",
    "\n",
    "# My utilies \n",
    "from poreUtils import * "
   ]
  },
  {
   "cell_type": "code",
   "execution_count": 10,
   "id": "62f85f86",
   "metadata": {},
   "outputs": [],
   "source": [
    "data_dir = 'D:\\\\sagar\\\\Data\\\\MD_1264_A3_1_Z0.0mm\\\\roi\\\\'\n",
    "selected_files = os.listdir(data_dir)\n",
    "\n",
    "out_dir = 'D:\\\\sagar\\\\Data\\\\MD_1264_A3_1_Z0.0mm\\\\result\\\\'"
   ]
  },
  {
   "cell_type": "code",
   "execution_count": 37,
   "id": "43c83992",
   "metadata": {},
   "outputs": [],
   "source": [
    "# global min and max according to the first dataset : A1_1_Z3.3\n",
    "#gbMin = -0.0030038052\n",
    "#gbMax = 0.011434587\n",
    "\n",
    "mins = [] \n",
    "maxs = [] "
   ]
  },
  {
   "cell_type": "code",
   "execution_count": 38,
   "id": "21657272",
   "metadata": {},
   "outputs": [
    {
     "name": "stderr",
     "output_type": "stream",
     "text": [
      "100%|██████████████████████████████████████████████████████████████████████████████████| 33/33 [00:13<00:00,  2.42it/s]\n"
     ]
    }
   ],
   "source": [
    "for afile in tqdm(selected_files):\n",
    "    file_path = os.path.join(data_dir, afile)\n",
    "    raw_vol = []\n",
    "    #sorting the slices according to their names like in windows \n",
    "    slices = Tcl().call('lsort', '-dict', os.listdir(file_path))\n",
    "    for aSlice in slices:\n",
    "        img = Image.open(os.path.join(file_path, aSlice))\n",
    "        imgarray = np.array(img)\n",
    "        raw_vol.append(imgarray)\n",
    "        \n",
    "    raw_vol = np.asarray(raw_vol)\n",
    "    mins.append(raw_vol.min())\n",
    "    maxs.append(raw_vol.max())\n",
    "    #raw_vol = rescale_linear(raw_vol, -0.0030038052, 0.011434587)\n",
    "    #fName = os.path.join(out_dir, afile)\n",
    "    #raw_vol.tofile(fName + '_8bit_new_norm.raw')"
   ]
  },
  {
   "cell_type": "code",
   "execution_count": 22,
   "id": "87aeadc7",
   "metadata": {},
   "outputs": [],
   "source": [
    "def rescale_linear(array, new_min, new_max):\n",
    "    \"\"\"Rescale an arrary linearly.\"\"\"\n",
    "    minimum, maximum = np.min(array), np.max(array)\n",
    "    m = (new_max - new_min) / (maximum - minimum)\n",
    "    b = new_min - m * minimum\n",
    "    return ((m * array + b)*255).astype(np.uint8)"
   ]
  },
  {
   "cell_type": "code",
   "execution_count": 39,
   "id": "84a340da",
   "metadata": {},
   "outputs": [],
   "source": [
    "gbMin = max(mins)\n",
    "gbMax = min(maxs)"
   ]
  },
  {
   "cell_type": "code",
   "execution_count": 40,
   "id": "80efb57b",
   "metadata": {},
   "outputs": [
    {
     "name": "stderr",
     "output_type": "stream",
     "text": [
      "100%|██████████████████████████████████████████████████████████████████████████████████| 33/33 [00:17<00:00,  1.91it/s]\n"
     ]
    }
   ],
   "source": [
    "for afile in tqdm(selected_files):\n",
    "    file_path = os.path.join(data_dir, afile)\n",
    "    raw_vol = []\n",
    "    #sorting the slices according to their names like in windows \n",
    "    slices = Tcl().call('lsort', '-dict', os.listdir(file_path))\n",
    "    for aSlice in slices:\n",
    "        img = Image.open(os.path.join(file_path, aSlice))\n",
    "        imgarray = np.array(img)\n",
    "        raw_vol.append(imgarray)\n",
    "        \n",
    "    raw_vol = np.asarray(raw_vol)\n",
    "    raw_vol = norm8bit(raw_vol, gbMin, gbMax)\n",
    "    fName = os.path.join(out_dir, afile)\n",
    "    raw_vol.tofile(fName + '_8bit.raw')"
   ]
  },
  {
   "cell_type": "code",
   "execution_count": 26,
   "id": "642b96da",
   "metadata": {},
   "outputs": [
    {
     "data": {
      "text/plain": [
       "'400-700x1850-2150x2400-2700'"
      ]
     },
     "execution_count": 26,
     "metadata": {},
     "output_type": "execute_result"
    }
   ],
   "source": [
    "afile"
   ]
  },
  {
   "cell_type": "code",
   "execution_count": null,
   "id": "3728992b",
   "metadata": {},
   "outputs": [],
   "source": []
  }
 ],
 "metadata": {
  "kernelspec": {
   "display_name": "Python 3 (ipykernel)",
   "language": "python",
   "name": "python3"
  },
  "language_info": {
   "codemirror_mode": {
    "name": "ipython",
    "version": 3
   },
   "file_extension": ".py",
   "mimetype": "text/x-python",
   "name": "python",
   "nbconvert_exporter": "python",
   "pygments_lexer": "ipython3",
   "version": "3.9.7"
  }
 },
 "nbformat": 4,
 "nbformat_minor": 5
}
