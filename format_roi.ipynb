{
 "cells": [
  {
   "cell_type": "markdown",
   "id": "cf4b1d15",
   "metadata": {},
   "source": [
    "### 2nd Step of the Analysis pipeline \n",
    "\n",
    "# Format porous ROI to be used in pypore3d \n",
    "Extracted ROI from the scan is cliped to the range and then normalized to 8 bit to be used in pypore3d \n",
    "Global range chosen is min = 0.0005 max = 0.003\n",
    "\n"
   ]
  },
  {
   "cell_type": "code",
   "execution_count": 8,
   "id": "733d3977",
   "metadata": {},
   "outputs": [],
   "source": [
    "# import neccessary libraries \n",
    "import tifffile\n",
    "import numpy as np\n",
    "from PIL import Image\n",
    "import os \n",
    "from tqdm import tqdm \n",
    "from tkinter import Tcl\n",
    "\n",
    "# My utilies \n",
    "from poreUtils import * "
   ]
  },
  {
   "cell_type": "code",
   "execution_count": 9,
   "id": "62f85f86",
   "metadata": {},
   "outputs": [],
   "source": [
    "data_dir = 'D:\\\\sagar\\\\Data\\\\MD_1264_A6_1_Z3.3mm_corr_phrt\\\\roi\\\\'\n",
    "selected_files = os.listdir(data_dir)\n",
    "\n",
    "out_dir = 'D:\\\\sagar\\\\Data\\\\MD_1264_A6_1_Z3.3mm_corr_phrt\\\\result\\\\'"
   ]
  },
  {
   "cell_type": "code",
   "execution_count": 10,
   "id": "43c83992",
   "metadata": {},
   "outputs": [],
   "source": [
    "# global min and max \n",
    "gbMin = 0.0005\n",
    "gbMax = 0.003\n"
   ]
  },
  {
   "cell_type": "code",
   "execution_count": 11,
   "id": "21657272",
   "metadata": {},
   "outputs": [
    {
     "name": "stderr",
     "output_type": "stream",
     "text": [
      "100%|██████████████████████████████████████████████████████████████████████████████████| 61/61 [03:10<00:00,  3.12s/it]\n"
     ]
    }
   ],
   "source": [
    "for afile in tqdm(selected_files):\n",
    "    file_path = os.path.join(data_dir, afile)\n",
    "    raw_vol = []\n",
    "    #sorting the slices according to their names like in windows \n",
    "    slices = Tcl().call('lsort', '-dict', os.listdir(file_path))\n",
    "    for aSlice in slices:\n",
    "        img = Image.open(os.path.join(file_path, aSlice))\n",
    "        imgarray = np.array(img)\n",
    "        raw_vol.append(imgarray)\n",
    "        \n",
    "    raw_vol = np.asarray(raw_vol)\n",
    "    raw_vol = np.nan_to_num(raw_vol)\n",
    "    raw_vol = np.clip(raw_vol, a_min=gbMin, a_max=gbMax)\n",
    "    raw_vol = norm8bit(raw_vol)#, minVal=gbMin, maxVal=gbMax)\n",
    "    fName = os.path.join(out_dir, afile)\n",
    "    raw_vol.tofile(fName + '_8bit.raw')\n"
   ]
  },
  {
   "cell_type": "code",
   "execution_count": null,
   "id": "7d9d2b60",
   "metadata": {},
   "outputs": [],
   "source": []
  }
 ],
 "metadata": {
  "kernelspec": {
   "display_name": "Python 3 (ipykernel)",
   "language": "python",
   "name": "python3"
  },
  "language_info": {
   "codemirror_mode": {
    "name": "ipython",
    "version": 3
   },
   "file_extension": ".py",
   "mimetype": "text/x-python",
   "name": "python",
   "nbconvert_exporter": "python",
   "pygments_lexer": "ipython3",
   "version": "3.9.7"
  }
 },
 "nbformat": 4,
 "nbformat_minor": 5
}
