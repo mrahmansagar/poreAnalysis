{
 "cells": [
  {
   "cell_type": "code",
   "execution_count": 1,
   "id": "db9ef832",
   "metadata": {},
   "outputs": [],
   "source": [
    "# import neccessary libraries \n",
    "import tifffile\n",
    "import numpy as np\n",
    "from PIL import Image\n",
    "import os \n",
    "from tqdm import tqdm \n",
    "from tkinter import Tcl\n",
    "\n",
    "# My utilies \n",
    "from poreUtils import * "
   ]
  },
  {
   "cell_type": "code",
   "execution_count": 2,
   "id": "df849e88",
   "metadata": {},
   "outputs": [],
   "source": [
    "data_dir = 'D:\\\\sagar\\\\Data\\\\MD_1264_B1_1_Z3.3mm_corr_phrt\\\\tiles\\\\'\n",
    "selected_files = os.listdir(data_dir)\n",
    "\n",
    "out_dir = 'D:\\\\sagar\\\\Data\\\\MD_1264_B1_1_Z3.3mm_corr_phrt\\\\weird\\\\'"
   ]
  },
  {
   "cell_type": "code",
   "execution_count": 3,
   "id": "67f77616",
   "metadata": {},
   "outputs": [],
   "source": [
    "# function to save slices of a volume into a defined folder \n",
    "\n",
    "def saveSlices(volume, folderName):\n",
    "    depth = volume.shape[0]\n",
    "    for aSlice in range(depth):\n",
    "        img = volume[aSlice, :, :]\n",
    "        if not os.path.exists(folderName):\n",
    "            os.makedirs(folderName)\n",
    "        fName = os.path.join(folderName, f'slice_{aSlice}.tif') \n",
    "        tifffile.imsave(fName, img)"
   ]
  },
  {
   "cell_type": "code",
   "execution_count": 4,
   "id": "092b2c07",
   "metadata": {},
   "outputs": [
    {
     "name": "stderr",
     "output_type": "stream",
     "text": [
      "100%|████████████████████████████████████████████████████████████████████████████████| 896/896 [53:19<00:00,  3.57s/it]\n"
     ]
    }
   ],
   "source": [
    "for afile in tqdm(selected_files):\n",
    "    file_path = os.path.join(data_dir, afile)\n",
    "    raw_vol = []\n",
    "    #sorting the slices according to their names like in windows \n",
    "    slices = Tcl().call('lsort', '-dict', os.listdir(file_path))\n",
    "    for aSlice in slices:\n",
    "        img = Image.open(os.path.join(file_path, aSlice))\n",
    "        imgarray = np.array(img)\n",
    "        raw_vol.append(imgarray)\n",
    "        \n",
    "    raw_vol = np.asarray(raw_vol)\n",
    "    raw_vol = np.nan_to_num(raw_vol)\n",
    "    raw_vol = np.clip(raw_vol, a_min=0.0005, a_max=0.003)\n",
    "    fName = os.path.join(out_dir, afile)\n",
    "    saveSlices(raw_vol, fName)"
   ]
  },
  {
   "cell_type": "code",
   "execution_count": null,
   "id": "00bf8325",
   "metadata": {},
   "outputs": [],
   "source": []
  }
 ],
 "metadata": {
  "kernelspec": {
   "display_name": "Python 3 (ipykernel)",
   "language": "python",
   "name": "python3"
  },
  "language_info": {
   "codemirror_mode": {
    "name": "ipython",
    "version": 3
   },
   "file_extension": ".py",
   "mimetype": "text/x-python",
   "name": "python",
   "nbconvert_exporter": "python",
   "pygments_lexer": "ipython3",
   "version": "3.9.7"
  }
 },
 "nbformat": 4,
 "nbformat_minor": 5
}
