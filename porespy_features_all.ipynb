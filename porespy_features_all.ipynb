{
 "cells": [
  {
   "cell_type": "code",
   "execution_count": 1,
   "id": "b1476cdc",
   "metadata": {},
   "outputs": [],
   "source": [
    "import numpy as np \n",
    "import matplotlib.pyplot as plt \n",
    "import os \n",
    "from tkinter import Tcl # for sorting the slices as in windows dir\n",
    "from glob import glob \n",
    "from tqdm import tqdm \n",
    "\n",
    "from poreUtils import *\n",
    "\n",
    "\n",
    "from PIL import Image\n",
    "\n",
    "from scipy import ndimage as nd\n",
    "from skimage.measure import label\n",
    "#from skimage.feature import peak_local_max\n",
    "from skimage.segmentation import watershed\n",
    "\n",
    "import json "
   ]
  },
  {
   "cell_type": "code",
   "execution_count": 2,
   "id": "f6ce477e",
   "metadata": {},
   "outputs": [
    {
     "name": "stderr",
     "output_type": "stream",
     "text": [
      "C:\\Users\\Manager\\.conda\\envs\\porespy\\lib\\site-packages\\tqdm\\auto.py:22: TqdmWarning: IProgress not found. Please update jupyter and ipywidgets. See https://ipywidgets.readthedocs.io/en/stable/user_install.html\n",
      "  from .autonotebook import tqdm as notebook_tqdm\n"
     ]
    }
   ],
   "source": [
    "# Using porespy \n",
    "import porespy as ps\n",
    "import scipy.ndimage as spim\n",
    "ps.visualization.set_mpl_style()\n",
    "np.random.seed(1)"
   ]
  },
  {
   "cell_type": "code",
   "execution_count": 3,
   "id": "ee920f02",
   "metadata": {},
   "outputs": [],
   "source": [
    "import pandas as pd\n",
    "\n",
    "def extract_properties(list_of_r_instances):\n",
    "    \"\"\"\n",
    "    Extract properties from a list of instances of 'r' and store them in a pandas dataframe.\n",
    "\n",
    "    Parameters\n",
    "    ----------\n",
    "    list_of_r_instances : list\n",
    "        List of instances of 'r'.\n",
    "    Returns\n",
    "    -------\n",
    "    pandas.DataFrame\n",
    "        Dataframe with columns for each property and rows for each instance of 'r'.\n",
    "    \"\"\"\n",
    "    # Create a list of properties\n",
    "    property_list = ['label', 'volume', 'bbox_volume', 'sphericity', 'surface_area', 'convex_volume',\n",
    "                     'centroid', 'equivalent_diameter_area', 'euler_number', 'extent', \n",
    "                     'axis_major_length', 'axis_minor_length', 'solidity']\n",
    "\n",
    "    # Create a dictionary to store the properties of the current instance of r\n",
    "    properties = {}\n",
    "\n",
    "    for prop in property_list:\n",
    "        properties[prop] = []\n",
    "\n",
    "\n",
    "    # Iterate over each instance of r\n",
    "    for r_instance in list_of_r_instances:\n",
    "        # Iterate over the property list\n",
    "        for prop in property_list:\n",
    "            try:\n",
    "                # Extract the property from the current instance of r\n",
    "                value = getattr(r_instance, prop)\n",
    "\n",
    "                if prop == 'centroid':\n",
    "                    # If the property is 'centroid', convert it to the nearest integer\n",
    "                    value = np.round(value).astype(int).tolist()\n",
    "\n",
    "                properties[prop].append(value)\n",
    "\n",
    "            except AttributeError:\n",
    "                # If the property does not exist, set it to None\n",
    "                properties[prop] = None\n",
    "            except NotImplementedError:\n",
    "                # If there is a NotImplementedError, set it to None and continue to the next iteration\n",
    "                properties[prop] = None\n",
    "                continue\n",
    "\n",
    "    # Create a pandas dataframe from the data list\n",
    "    df = pd.DataFrame(properties)\n",
    "\n",
    "    \n",
    "    return df"
   ]
  },
  {
   "cell_type": "code",
   "execution_count": 4,
   "id": "eaf3c5aa",
   "metadata": {},
   "outputs": [],
   "source": [
    "# list all the folders where there rois \n",
    "\n",
    "# data dir \n",
    "data_dir = 'D:\\\\sagar\\\\Data'\n",
    "\n"
   ]
  },
  {
   "cell_type": "code",
   "execution_count": 5,
   "id": "3b3c9a93",
   "metadata": {},
   "outputs": [],
   "source": [
    "# all the sample folder where there are rois \n",
    "sample_folders = os.listdir(data_dir)\n",
    "\n",
    "all_rois = []\n",
    "valid_folders = []\n",
    "for d in sample_folders:\n",
    "    roi_path = os.path.join(data_dir, d, 'roi')\n",
    "    if (os.path.exists(roi_path)):\n",
    "        valid_folders.append(os.path.join(data_dir, d,))\n",
    "        all_rois += glob((roi_path +'\\*'))\n",
    "        \n"
   ]
  },
  {
   "cell_type": "code",
   "execution_count": null,
   "id": "b368a9db",
   "metadata": {},
   "outputs": [],
   "source": []
  },
  {
   "cell_type": "code",
   "execution_count": null,
   "id": "e33dae09",
   "metadata": {},
   "outputs": [],
   "source": []
  },
  {
   "cell_type": "code",
   "execution_count": null,
   "id": "12d0f9c2",
   "metadata": {},
   "outputs": [
    {
     "name": "stderr",
     "output_type": "stream",
     "text": [
      " 46%|█████████████████████████████████▍                                       | 244/532 [18:06:00<25:46:36, 322.21s/it]"
     ]
    }
   ],
   "source": [
    "# Creating a separate folder to put porespy restult\n",
    "\n",
    "for s in valid_folders:\n",
    "    if not os.path.exists(os.path.join(s, 'porespy')):\n",
    "        os.makedirs(os.path.join(s, 'porespy'))\n",
    "\n",
    "\n",
    "bin_th = 55\n",
    "dt_th = 8\n",
    "\n",
    "faulty_rois = []\n",
    "\n",
    "for roi_path in tqdm(all_rois):\n",
    "    try:\n",
    "        tiffs = os.listdir(roi_path)\n",
    "        slices = Tcl().call('lsort', '-dict', tiffs)\n",
    "        vol = np.empty(shape=(300, 300, 300), dtype=np.uint8)\n",
    "        for i, fname in enumerate(slices):\n",
    "            im = Image.open(os.path.join(roi_path, fname))\n",
    "            imarray = np.array(im)\n",
    "            imarray = np.clip(imarray, 0.0005, 0.003)\n",
    "            imarray = norm8bit(imarray)\n",
    "            vol[i, :, :] = imarray\n",
    "\n",
    "        th_vol = vol < bin_th\n",
    "        th_vol = nd.binary_closing(th_vol, np.ones((3,3,3)))\n",
    "        th_vol = th_vol.astype(np.uint8)\n",
    "        th_vol = nd.binary_dilation(th_vol, np.ones((5,5,5)))\n",
    "        th_vol = nd.binary_erosion(th_vol, np.ones((5,5,5)))\n",
    "\n",
    "        dt3d = nd.distance_transform_edt(th_vol)\n",
    "        \n",
    "        mask = dt3d > dt_th\n",
    "        markers = label(mask)\n",
    "        labels = watershed(-dt3d, markers, mask=th_vol)\n",
    "\n",
    "        props = ps.metrics.regionprops_3D(labels)\n",
    "\n",
    "        df = extract_properties(props)\n",
    "        features = df.to_dict(orient='list')\n",
    "        features['bin_th'] = [bin_th]\n",
    "        features['dt_th'] = [dt_th]\n",
    "        features['dtmax'] = [dt3d.max()]\n",
    "        \n",
    "\n",
    "        jsonString = json.dumps(features)\n",
    "        jsonFile = open(roi_path.replace('roi', 'porespy') + '_.json', 'w')\n",
    "        jsonFile.write(jsonString)\n",
    "        jsonFile.close()\n",
    "        \n",
    "    except:\n",
    "        faulty_rois.append(roi_path)\n",
    "        pass\n",
    "\n",
    "print(faulty_rois)"
   ]
  },
  {
   "cell_type": "code",
   "execution_count": null,
   "id": "29b29725",
   "metadata": {},
   "outputs": [],
   "source": []
  }
 ],
 "metadata": {
  "kernelspec": {
   "display_name": "Python 3 (ipykernel)",
   "language": "python",
   "name": "python3"
  },
  "language_info": {
   "codemirror_mode": {
    "name": "ipython",
    "version": 3
   },
   "file_extension": ".py",
   "mimetype": "text/x-python",
   "name": "python",
   "nbconvert_exporter": "python",
   "pygments_lexer": "ipython3",
   "version": "3.10.8"
  }
 },
 "nbformat": 4,
 "nbformat_minor": 5
}
