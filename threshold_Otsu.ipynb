{
 "cells": [
  {
   "cell_type": "code",
   "execution_count": null,
   "id": "d5a5488f",
   "metadata": {},
   "outputs": [],
   "source": [
    "from skimage.filters.rank import otsu\n",
    "\n",
    "from skimage.morphology import cube"
   ]
  },
  {
   "cell_type": "code",
   "execution_count": null,
   "id": "4ba1f746",
   "metadata": {},
   "outputs": [],
   "source": [
    "raw=norm8bit(rawb_vol)"
   ]
  },
  {
   "cell_type": "code",
   "execution_count": null,
   "id": "f1da8e3d",
   "metadata": {},
   "outputs": [],
   "source": [
    "local_otsu = otsu(raw, cube(4))"
   ]
  },
  {
   "cell_type": "code",
   "execution_count": null,
   "id": "701907df",
   "metadata": {},
   "outputs": [],
   "source": [
    "thresh_image = raw >= local_otsu\n",
    "\n",
    "plt.imshow(thresh_image[27, ...], cmap='gray')\n",
    "plt.show()\n",
    "plt.imshow(raw[27, ...], cmap='gray')\n",
    "plt.show()\n",
    "\n",
    "\n",
    "raw_path = 'D:\\\\sagar\\\\Data\\\\MD_1264_A3_1_Z3.3mm\\\\tiles\\\\0-300x1000-1300x1400-1700\\\\'\n",
    "rawb_vol = []\n",
    "#sorting the slices according to their names like in windows \n",
    "slices = Tcl().call('lsort', '-dict', os.listdir(raw_path))\n",
    "for aSlice in slices:\n",
    "    img = Image.open(os.path.join(raw_path, aSlice))\n",
    "    imgarray = np.array(img)\n",
    "    rawb_vol.append(imgarray)\n",
    "    \n",
    "    \n",
    "rawb_vol = np.asarray(rawb_vol)"
   ]
  }
 ],
 "metadata": {
  "kernelspec": {
   "display_name": "Python 3 (ipykernel)",
   "language": "python",
   "name": "python3"
  },
  "language_info": {
   "codemirror_mode": {
    "name": "ipython",
    "version": 3
   },
   "file_extension": ".py",
   "mimetype": "text/x-python",
   "name": "python",
   "nbconvert_exporter": "python",
   "pygments_lexer": "ipython3",
   "version": "3.9.7"
  }
 },
 "nbformat": 4,
 "nbformat_minor": 5
}
