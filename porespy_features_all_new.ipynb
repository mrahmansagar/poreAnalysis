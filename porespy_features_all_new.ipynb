{
 "cells": [
  {
   "cell_type": "code",
   "execution_count": 16,
   "id": "35bf8e50",
   "metadata": {},
   "outputs": [],
   "source": [
    "import numpy as np \n",
    "import matplotlib.pyplot as plt \n",
    "import os \n",
    "from tkinter import Tcl # for sorting the slices as in windows dir\n",
    "from glob import glob \n",
    "from tqdm.notebook import tqdm \n",
    "\n",
    "from poreUtils import *\n",
    "\n",
    "\n",
    "from PIL import Image\n",
    "\n",
    "from scipy import ndimage as nd\n",
    "from skimage.measure import label\n",
    "#from skimage.feature import peak_local_max\n",
    "from skimage.segmentation import watershed\n",
    "\n",
    "import time\n",
    "\n",
    "import json "
   ]
  },
  {
   "cell_type": "code",
   "execution_count": 17,
   "id": "8ea239b3",
   "metadata": {},
   "outputs": [],
   "source": [
    "# Using porespy \n",
    "import porespy as ps\n",
    "import scipy.ndimage as spim\n",
    "ps.visualization.set_mpl_style()\n",
    "np.random.seed(1)"
   ]
  },
  {
   "cell_type": "code",
   "execution_count": 18,
   "id": "02ef2008",
   "metadata": {},
   "outputs": [],
   "source": [
    "import pandas as pd\n",
    "\n",
    "def extract_properties(list_of_r_instances):\n",
    "    \"\"\"\n",
    "    Extract properties from a list of instances of 'r' and store them in a pandas dataframe.\n",
    "\n",
    "    Parameters\n",
    "    ----------\n",
    "    list_of_r_instances : list\n",
    "        List of instances of 'r'.\n",
    "    Returns\n",
    "    -------\n",
    "    pandas.DataFrame\n",
    "        Dataframe with columns for each property and rows for each instance of 'r'.\n",
    "    \"\"\"\n",
    "    # Create a list of properties\n",
    "    property_list = ['label', 'volume', 'bbox_volume', 'sphericity', 'surface_area', 'convex_volume',\n",
    "                     'centroid', 'equivalent_diameter_area', 'euler_number', 'extent', \n",
    "                     'axis_major_length', 'axis_minor_length', 'solidity']\n",
    "\n",
    "    # Create a dictionary to store the properties of the current instance of r\n",
    "    properties = {}\n",
    "\n",
    "    for prop in property_list:\n",
    "        properties[prop] = []\n",
    "\n",
    "\n",
    "    # Iterate over each instance of r\n",
    "    for r_instance in list_of_r_instances:\n",
    "        # Iterate over the property list\n",
    "        for prop in property_list:\n",
    "            try:\n",
    "                # Extract the property from the current instance of r\n",
    "                value = getattr(r_instance, prop)\n",
    "\n",
    "                if prop == 'centroid':\n",
    "                    # If the property is 'centroid', convert it to the nearest integer\n",
    "                    value = np.round(value).astype(int).tolist()\n",
    "\n",
    "                properties[prop].append(value)\n",
    "\n",
    "            except AttributeError:\n",
    "                # If the property does not exist, set it to None\n",
    "                properties[prop] = None\n",
    "            except NotImplementedError:\n",
    "                # If there is a NotImplementedError, set it to None and continue to the next iteration\n",
    "                properties[prop] = None\n",
    "                continue\n",
    "\n",
    "    # Create a pandas dataframe from the data list\n",
    "    df = pd.DataFrame(properties)\n",
    "\n",
    "    \n",
    "    return df"
   ]
  },
  {
   "cell_type": "code",
   "execution_count": 19,
   "id": "2a26fd7c",
   "metadata": {},
   "outputs": [],
   "source": [
    "# list all the folders where there rois \n",
    "# data dir \n",
    "data_dir = 'E:\\\\Data\\\\sam_data\\\\new'"
   ]
  },
  {
   "cell_type": "code",
   "execution_count": 20,
   "id": "1e43d553",
   "metadata": {},
   "outputs": [],
   "source": [
    "# all the sample folder where there are rois \n",
    "sample_folders = os.listdir(data_dir)\n",
    "\n",
    "all_rois = []\n",
    "valid_folders = []\n",
    "for d in sample_folders:\n",
    "    roi_path = os.path.join(data_dir, d, 'roi')\n",
    "    if (os.path.exists(roi_path)):\n",
    "        valid_folders.append(os.path.join(data_dir, d,))\n",
    "        all_rois += glob((roi_path +'\\*'))\n",
    "        \n"
   ]
  },
  {
   "cell_type": "code",
   "execution_count": 21,
   "id": "2f6fa28f",
   "metadata": {},
   "outputs": [],
   "source": [
    "# find the rois that are already processed and remove them from the list of rois \n",
    "porespy_processed_dth12 = []\n",
    "\n",
    "for p in sample_folders:\n",
    "    porespy_path = os.path.join(data_dir, p, 'porespy') \n",
    "    porespy_processed_dth12 += glob((porespy_path + '\\*_dth12.json'))\n",
    "\n",
    "    # remove the ones that are already processed \n",
    "for apfile in porespy_processed_dth12:\n",
    "    all_rois.remove(apfile.replace('porespy', 'roi').split('_bth')[0])"
   ]
  },
  {
   "cell_type": "code",
   "execution_count": 22,
   "id": "7aa6e15f",
   "metadata": {},
   "outputs": [
    {
     "data": {
      "text/plain": [
       "1"
      ]
     },
     "execution_count": 22,
     "metadata": {},
     "output_type": "execute_result"
    }
   ],
   "source": [
    "len(all_rois)"
   ]
  },
  {
   "cell_type": "code",
   "execution_count": 23,
   "id": "536a2802",
   "metadata": {},
   "outputs": [
    {
     "data": {
      "text/plain": [
       "['E:\\\\Data\\\\sam_data\\\\new\\\\MD_1264_B5_1_Z3.3mm\\\\roi\\\\600-900x1000-1300x1400-1700']"
      ]
     },
     "execution_count": 23,
     "metadata": {},
     "output_type": "execute_result"
    }
   ],
   "source": [
    "all_rois"
   ]
  },
  {
   "cell_type": "code",
   "execution_count": 26,
   "id": "537fae24",
   "metadata": {},
   "outputs": [
    {
     "data": {
      "application/vnd.jupyter.widget-view+json": {
       "model_id": "1da8c0e2f6934d95a1ec900a73b74334",
       "version_major": 2,
       "version_minor": 0
      },
      "text/plain": [
       "  0%|          | 0/1 [00:00<?, ?it/s]"
      ]
     },
     "metadata": {},
     "output_type": "display_data"
    },
    {
     "name": "stdout",
     "output_type": "stream",
     "text": [
      "processing.... E:\\Data\\sam_data\\new\\MD_1264_B5_1_Z3.3mm\\roi\\600-900x1000-1300x1400-1700\n",
      "Execution time: 424.78 seconds\n",
      "[]\n"
     ]
    }
   ],
   "source": [
    "# Creating a separate folder to put porespy restult\n",
    "\n",
    "for s in valid_folders:\n",
    "    if not os.path.exists(os.path.join(s, 'porespy')):\n",
    "        os.makedirs(os.path.join(s, 'porespy'))\n",
    "\n",
    "\n",
    "bin_th = 55\n",
    "dt_th = 12\n",
    "\n",
    "processed_rois = []\n",
    "faulty_rois = []\n",
    "\n",
    "for roi_path in tqdm(all_rois):\n",
    "    start_time = time.time()\n",
    "    try:\n",
    "        print('processing....', roi_path)\n",
    "        \n",
    "        tiffs = os.listdir(roi_path)\n",
    "        slices = Tcl().call('lsort', '-dict', tiffs)\n",
    "        vol = np.empty(shape=(300, 300, 300), dtype=np.uint8)\n",
    "        # Temporary list to hold blank slices\n",
    "        blank_slices = []\n",
    "\n",
    "        for i, fname in enumerate(slices):\n",
    "            im = Image.open(os.path.join(roi_path, fname))\n",
    "            imarray = np.array(im)\n",
    "            \n",
    "            if np.all(imarray == 0):\n",
    "                blank_slices.append(imarray)\n",
    "            else:\n",
    "                vol[i - len(blank_slices), :, :] = imarray\n",
    "\n",
    "        # Append blank slices at the end\n",
    "        if len(blank_slices) > 0:\n",
    "            vol[-len(blank_slices):] = blank_slices\n",
    "\n",
    "        th_vol = vol < bin_th\n",
    "        th_vol = nd.binary_fill_holes(th_vol, np.ones((3,3,3)))\n",
    "        th_vol = nd.binary_closing(th_vol, np.ones((3,3,3)))\n",
    "        \n",
    "        dt3d = nd.distance_transform_edt(th_vol)\n",
    "\n",
    "        mask = dt3d > dt_th\n",
    "        markers = label(mask)\n",
    "        labels = watershed(-dt3d, markers, mask=th_vol)\n",
    "\n",
    "        props = ps.metrics.regionprops_3D(labels)\n",
    "\n",
    "        df = extract_properties(props)\n",
    "        features = df.to_dict(orient='list')\n",
    "        features['bin_th'] = [bin_th]\n",
    "        features['dt_th'] = [dt_th]\n",
    "        features['dtmax'] = [dt3d.max()]\n",
    "        \n",
    "\n",
    "        jsonString = json.dumps(features)\n",
    "        jsonFile = open(roi_path.replace('roi', 'porespy') + '_bth' + str(bin_th) + '_dth' + str(dt_th) + '.json', 'w')\n",
    "        jsonFile.write(jsonString)\n",
    "        jsonFile.close()\n",
    "        processed_rois.append(roi_path)\n",
    "        \n",
    "    except:\n",
    "        faulty_rois.append(roi_path)\n",
    "        print('skipping....', roi_path)\n",
    "        pass\n",
    "    \n",
    "    end_time = time.time()\n",
    "    execution_time = end_time - start_time\n",
    "\n",
    "    print(\"Execution time: {:.2f} seconds\".format(execution_time))\n",
    "\n",
    "print(faulty_rois)"
   ]
  },
  {
   "cell_type": "code",
   "execution_count": null,
   "id": "d6a07974",
   "metadata": {},
   "outputs": [],
   "source": []
  }
 ],
 "metadata": {
  "kernelspec": {
   "display_name": "Python 3 (ipykernel)",
   "language": "python",
   "name": "python3"
  },
  "language_info": {
   "codemirror_mode": {
    "name": "ipython",
    "version": 3
   },
   "file_extension": ".py",
   "mimetype": "text/x-python",
   "name": "python",
   "nbconvert_exporter": "python",
   "pygments_lexer": "ipython3",
   "version": "3.9.13"
  }
 },
 "nbformat": 4,
 "nbformat_minor": 5
}
