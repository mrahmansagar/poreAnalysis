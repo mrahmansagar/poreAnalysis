{
 "cells": [
  {
   "cell_type": "code",
   "execution_count": null,
   "metadata": {},
   "outputs": [],
   "source": [
    "import os \n",
    "from glob import glob \n",
    "import matplotlib.pyplot as plt \n",
    "import numpy as np\n",
    "\n",
    "import json\n",
    "import pandas as pd \n",
    "\n",
    "from tqdm.notebook import tqdm "
   ]
  },
  {
   "cell_type": "code",
   "execution_count": null,
   "metadata": {},
   "outputs": [],
   "source": [
    "# Directory where the scans are stored with results \n",
    "root_dir = 'D:\\sagar\\Data'"
   ]
  },
  {
   "cell_type": "code",
   "execution_count": null,
   "metadata": {},
   "outputs": [],
   "source": [
    "# Control-VILI\n",
    "cntrl_vili_path = 'D:\\sagar\\Data\\MD_1264_A10_Z6.6mm\\porespy'\n",
    "# Bleomycine-VILI\n",
    "bleo_vili_path = 'D:\\sagar\\Data\\MD_1264_A9_Z0.0mm_Z3.3mm\\porespy'\n",
    "# Bleomycine \n",
    "bleo_path = 'D:\\sagar\\Data\\MD_1264_A6_1_Z3.3mm_corr_phrt\\porespy'"
   ]
  },
  {
   "cell_type": "code",
   "execution_count": null,
   "metadata": {},
   "outputs": [],
   "source": [
    "import random"
   ]
  },
  {
   "cell_type": "code",
   "execution_count": null,
   "metadata": {},
   "outputs": [],
   "source": [
    "aFile = random.choice(glob(cntrl_vili_path + '/*_dth12.json'))\n",
    "file = open(aFile)\n",
    "data = json.load(file)\n",
    "file.close()"
   ]
  },
  {
   "cell_type": "code",
   "execution_count": null,
   "metadata": {},
   "outputs": [],
   "source": [
    "blob_vol = data['volume']"
   ]
  },
  {
   "cell_type": "code",
   "execution_count": null,
   "metadata": {},
   "outputs": [],
   "source": [
    "def ratio_greater_than_threshold(lst, threshold, start=None, end=None):\n",
    "    \"\"\"\n",
    "    Calculate the ratio of values in a list that are greater than a specified threshold.\n",
    "\n",
    "    Args:\n",
    "        lst (list): The list of numbers.\n",
    "        threshold (float): The threshold value to compare each element against.\n",
    "        start (float): The starting value of the range to consider. Defaults to None, which means\n",
    "                       start at the beginning of the list.\n",
    "        end (float): The ending value of the range to consider. Defaults to None, which means\n",
    "                     end at the end of the list.\n",
    "\n",
    "    Returns:\n",
    "        float: The ratio of values in the specified range of the list that are greater than the threshold.\n",
    "    \"\"\"\n",
    "    if start is None:\n",
    "        start = lst[0]\n",
    "    if end is None:\n",
    "        end = lst[-1]\n",
    "\n",
    "    start_index = lst.index(start) if start in lst else None\n",
    "    end_index = lst.index(end) if end in lst else None\n",
    "\n",
    "    if start_index is None:\n",
    "        start_index = 0\n",
    "    if end_index is None:\n",
    "        end_index = len(lst)\n",
    "\n",
    "    count_greater = sum(1 for x in lst[start_index:end_index] if x > threshold)\n",
    "    count_total = end_index - start_index\n",
    "\n",
    "    return count_greater / count_total if count_total > 0 else 0.0\n",
    "\n"
   ]
  },
  {
   "cell_type": "code",
   "execution_count": null,
   "metadata": {},
   "outputs": [],
   "source": [
    "# Ploting box distribution 0f the blob volume ratio based on the threshold value. Choosing of threshold is user input \n",
    "blob_size_threshold = 100000\n",
    "data_list = []\n",
    "\n",
    "for path in list([cntrl_vili_path, bleo_vili_path, bleo_path]):\n",
    "    feature = []\n",
    "    for afile in tqdm(glob(path + '/*_dth12.json')):\n",
    "        file = open(afile)\n",
    "        data = json.load(file)\n",
    "        file.close()\n",
    "        volume = data['volume']\n",
    "        if len(volume) > 0:\n",
    "            feature.append(ratio_greater_than_threshold(volume, blob_size_threshold))\n",
    "    data_list.append(feature)\n",
    "\n",
    "\n",
    "# Create a figure and axis object\n",
    "fig, ax = plt.subplots()\n",
    "# Create the boxplot\n",
    "ax.boxplot(data_list)\n",
    "# Add labels and a title to the plot\n",
    "ax.set_xlabel('study Groups', size=15)\n",
    "ax.set_ylabel('data distribution', size=15)\n",
    "ax.set_title(('boxplot of data with '), size=15)\n",
    "ax.set_xticklabels(['control-vili', 'bleomycine-vili', 'bleomycine'])\n",
    "ax.tick_params(axis='both', which='major', labelsize=15)\n",
    "\n",
    "# Display the plot\n",
    "plt.show()\n"
   ]
  },
  {
   "cell_type": "code",
   "execution_count": null,
   "metadata": {},
   "outputs": [],
   "source": [
    "# geting the group information\n",
    "df = pd.read_csv('study_group.csv')\n",
    "df"
   ]
  },
  {
   "cell_type": "code",
   "execution_count": null,
   "metadata": {},
   "outputs": [],
   "source": [
    "# Getting the scans where pypore3d analysis has been run \n",
    "scans = []\n",
    "for p in os.listdir(root_dir):\n",
    "    file_path = os.path.join(root_dir, p, 'porespy')\n",
    "    if os.path.exists(file_path):\n",
    "        scans.append(p)"
   ]
  },
  {
   "cell_type": "code",
   "execution_count": null,
   "metadata": {},
   "outputs": [],
   "source": [
    "# creating diffrent groupsfrom the available scans\n",
    "scan_groups = {}\n",
    "for g in np.unique(df['Group']):\n",
    "    scan_groups[g] = []\n",
    "\n",
    "for scan in scans:\n",
    "    scan_index = df.loc[df['Scan'] == str(scan)].index[0]\n",
    "    group = df['Group'][scan_index]\n",
    "    scan_groups[group].append(scan)\n",
    "\n",
    "print(scan_groups)"
   ]
  },
  {
   "cell_type": "code",
   "execution_count": null,
   "metadata": {},
   "outputs": [],
   "source": [
    "cntrl_vili_scans = scan_groups['Con-VILI']\n",
    "bleo_vili_scans = scan_groups['Ble-VILI']\n",
    "bleo_scans = scan_groups['Ble']"
   ]
  },
  {
   "cell_type": "code",
   "execution_count": null,
   "metadata": {},
   "outputs": [],
   "source": [
    "import ipywidgets as widgets \n",
    "from ipywidgets import VBox, HBox"
   ]
  },
  {
   "cell_type": "code",
   "execution_count": null,
   "metadata": {},
   "outputs": [],
   "source": [
    "\n",
    "\n",
    "select_cntrl_vili_scan = widgets.SelectMultiple(\n",
    "    options = cntrl_vili_scans,\n",
    "    value = [cntrl_vili_scans[0]],\n",
    "    description = 'Control-VILI',\n",
    "    disabled = False,\n",
    "    rows = 10\n",
    ")\n",
    "\n",
    "select_bleo_vili_scan = widgets.SelectMultiple(\n",
    "    options = bleo_vili_scans,\n",
    "    value = [bleo_vili_scans[0]],\n",
    "    description = 'Bleomycine-VILI',\n",
    "    disabled = False,\n",
    "    rows = 10\n",
    ")\n",
    "\n",
    "select_bleo_scan = widgets.SelectMultiple(\n",
    "    options = bleo_scans,\n",
    "    value = [bleo_scans[0]],\n",
    "    description = 'Bleomycine',\n",
    "    disabled = False,\n",
    "    rows = 10\n",
    ")\n",
    "\n",
    "# Text box for threshold value of blob volume to calculate ratio\n",
    "input_threshold_value = widgets.BoundedFloatText(\n",
    "    value=100000,\n",
    "    min=0,\n",
    "    max=216000000,\n",
    "    step=1000,\n",
    "    description='Big Pore threshold',\n",
    "    disabled=False\n",
    ")\n",
    "\n",
    "# create a text field for the filename\n",
    "text_field = widgets.Text(\n",
    "    value='filename.png',\n",
    "    placeholder='Type something',\n",
    "    description='Filename:',\n",
    "    disabled=False\n",
    ")\n",
    "\n",
    "saveFig_button = widgets.Button(\n",
    "    description='Click me',\n",
    "    disabled=False,\n",
    "    button_style='', # 'success', 'info', 'warning', 'danger' or ''\n",
    "    tooltip='Click me',\n",
    "    icon='check' # (FontAwesome names without the `fa-` prefix)\n",
    ")\n",
    "\n",
    "ui = VBox([HBox( [ VBox([widgets.Label(value=input_threshold_value.description), input_threshold_value]) ]), \n",
    "           HBox([ VBox([widgets.Label(value=select_cntrl_vili_scan.description), select_cntrl_vili_scan]), \n",
    "                 VBox([widgets.Label(value=select_bleo_vili_scan.description), select_bleo_vili_scan]),\n",
    "                 VBox([widgets.Label(value=select_bleo_scan.description), select_bleo_scan]) ]),\n",
    "            HBox([text_field, saveFig_button])\n",
    "        ])\n",
    "\n",
    "\n",
    "\n",
    "\n",
    "input_threshold_value.description = ''\n",
    "select_cntrl_vili_scan.description = ''\n",
    "select_bleo_vili_scan.description = ''\n",
    "select_bleo_scan.description = ''\n",
    "\n",
    "\n",
    "# interactive function to control the input selection for box plot distribution plot\n",
    "def interactive_box_plot(scan_cntrl_vili, scan_bleo_vili, scan_bleo, thres_value, fileName, data_path=root_dir, scan_regx='dth12'):\n",
    "    \n",
    "    \n",
    "    data_list = []\n",
    "    for agrp in [scan_cntrl_vili, scan_bleo_vili, scan_bleo]:\n",
    "        json_files = []\n",
    "        for aScan in agrp:\n",
    "            fpath = os.path.join(data_path, aScan, 'porespy')\n",
    "            json_files += glob(fpath + '\\*' +scan_regx + '.json')\n",
    "        \n",
    "        feature = []\n",
    "        for afile in json_files:\n",
    "            file = open(afile)\n",
    "            data = json.load(file)\n",
    "            file.close()\n",
    "            volume = data['volume']\n",
    "            if len(volume) > 0:\n",
    "                feature.append(ratio_greater_than_threshold(volume, thres_value))\n",
    "                       \n",
    "        data_list.append(feature)\n",
    "\n",
    "    \n",
    "    # Create a figure and axis object\n",
    "    fig, ax = plt.subplots(figsize=(16,9))\n",
    "    # Create the boxplot\n",
    "    ax.boxplot(data_list)\n",
    "    # Add labels and a title to the plot\n",
    "    ax.set_xlabel('study Groups', size=15)\n",
    "    ax.set_ylabel('data distribution', size=15)\n",
    "    ax.set_title(('boxplot of data with '), size=15)\n",
    "    ax.set_xticklabels(['control-vili', 'bleomycine-vili', 'bleomycine'])\n",
    "    ax.tick_params(axis='both', which='major', labelsize=15)\n",
    "    # Display the plot\n",
    "    plt.show()\n",
    "\n",
    "    def on_button_clicked(b):\n",
    "        fig.savefig()\n",
    "    \n",
    "    saveFig_button.on_click(on_button_clicked)\n",
    "\n",
    "out = widgets.interactive_output(interactive_box_plot, {'scan_cntrl_vili':select_cntrl_vili_scan, 'scan_bleo_vili':select_bleo_vili_scan, \n",
    "                                                        'scan_bleo':select_bleo_scan, 'thres_value': input_threshold_value,\n",
    "                                                        'fileName':text_field})\n",
    "\n",
    "display(ui, out)"
   ]
  },
  {
   "cell_type": "code",
   "execution_count": null,
   "metadata": {},
   "outputs": [],
   "source": []
  },
  {
   "cell_type": "code",
   "execution_count": null,
   "metadata": {},
   "outputs": [],
   "source": []
  }
 ],
 "metadata": {
  "kernelspec": {
   "display_name": "base",
   "language": "python",
   "name": "python3"
  },
  "language_info": {
   "codemirror_mode": {
    "name": "ipython",
    "version": 3
   },
   "file_extension": ".py",
   "mimetype": "text/x-python",
   "name": "python",
   "nbconvert_exporter": "python",
   "pygments_lexer": "ipython3",
   "version": "3.9.7"
  },
  "orig_nbformat": 4,
  "vscode": {
   "interpreter": {
    "hash": "ad2bdc8ecc057115af97d19610ffacc2b4e99fae6737bb82f5d7fb13d2f2c186"
   }
  }
 },
 "nbformat": 4,
 "nbformat_minor": 2
}
