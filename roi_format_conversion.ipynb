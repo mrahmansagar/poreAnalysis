{
 "cells": [
  {
   "cell_type": "code",
   "execution_count": 1,
   "id": "c0e3f2d8",
   "metadata": {},
   "outputs": [],
   "source": [
    "# import neccessary libraries \n",
    "import tifffile\n",
    "import numpy as np\n",
    "import matplotlib.pyplot as plt\n",
    "from PIL import Image\n",
    "import os \n",
    "from tqdm import tqdm \n",
    "from tkinter import Tcl\n",
    "\n",
    "# My utilies \n",
    "import poreUtils "
   ]
  },
  {
   "cell_type": "code",
   "execution_count": 2,
   "id": "70bd32de",
   "metadata": {},
   "outputs": [],
   "source": [
    "data_dir = 'D:\\sagar\\Data\\MD_1264_A1_1_Z3.3mm\\selected_roi'\n",
    "selected_files = os.listdir(data_dir)"
   ]
  },
  {
   "cell_type": "code",
   "execution_count": 3,
   "id": "b15598af",
   "metadata": {},
   "outputs": [
    {
     "name": "stderr",
     "output_type": "stream",
     "text": [
      "100%|████████████████████████████████████████████████████████████████████████████████████| 1/1 [00:01<00:00,  1.71s/it]\n"
     ]
    }
   ],
   "source": [
    "for afile in tqdm(selected_files):\n",
    "    file_path = os.path.join(data_dir, afile)\n",
    "    raw_vol = []\n",
    "    #sorting the slices according to their names like in windows \n",
    "    slices = Tcl().call('lsort', '-dict', os.listdir(file_path))\n",
    "    for aSlice in slices:\n",
    "        img = Image.open(os.path.join(file_path, aSlice))\n",
    "        imgarray = np.array(img)\n",
    "        raw_vol.append(imgarray)\n",
    "        \n",
    "    raw_vol = np.asarray(raw_vol)\n",
    "    raw_vol = poreUtils.norm8bit(raw_vol)\n",
    "    tifffile.imsave((file_path + '_8bit.raw'), raw_vol)\n",
    "        \n",
    "        \n",
    "        "
   ]
  }
 ],
 "metadata": {
  "kernelspec": {
   "display_name": "Python 3 (ipykernel)",
   "language": "python",
   "name": "python3"
  },
  "language_info": {
   "codemirror_mode": {
    "name": "ipython",
    "version": 3
   },
   "file_extension": ".py",
   "mimetype": "text/x-python",
   "name": "python",
   "nbconvert_exporter": "python",
   "pygments_lexer": "ipython3",
   "version": "3.9.7"
  }
 },
 "nbformat": 4,
 "nbformat_minor": 5
}
