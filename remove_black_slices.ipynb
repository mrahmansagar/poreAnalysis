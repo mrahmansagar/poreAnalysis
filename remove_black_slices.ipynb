{
 "cells": [
  {
   "cell_type": "code",
   "execution_count": 1,
   "id": "d60ebd4c",
   "metadata": {},
   "outputs": [],
   "source": [
    "# import neccessary libraries \n",
    "import numpy as np \n",
    "import matplotlib.pyplot as plt\n",
    "import os \n",
    "from tkinter import Tcl\n",
    "\n",
    "import ipywidgets as widgets\n",
    "\n",
    "from PIL import Image \n",
    "\n",
    "from poreUtils import * "
   ]
  },
  {
   "cell_type": "code",
   "execution_count": 2,
   "id": "08b336f4",
   "metadata": {},
   "outputs": [],
   "source": [
    "# write a function to load volume from the path\n",
    "\n",
    "def load_volume(volume_path):\n",
    "    \"\"\"Load the volume from the path provided.\n",
    "\n",
    "    Args:\n",
    "    volume_path (str): Path to the volume.\n",
    "\n",
    "    Returns:\n",
    "    vol (numpy array): The volume loaded from the path.\n",
    "\n",
    "    Raises:\n",
    "    Exception: If the path does not exist, raises an exception.\n",
    "    \"\"\"\n",
    "    try:\n",
    "        tiffs = os.listdir(volume_path)\n",
    "\n",
    "        slices = Tcl().call('lsort', '-dict', tiffs)\n",
    "        shape = Image.open(os.path.join(volume_path, slices[0])).size\n",
    "        vol = np.empty(shape=(len(slices), shape[0], shape[1]), dtype=np.uint8)\n",
    "\n",
    "        for i, fname in enumerate(slices):\n",
    "            im = Image.open(os.path.join(volume_path, fname))\n",
    "            imarray = np.array(im)\n",
    "            vol[i, :, :] = imarray\n",
    "\n",
    "        return vol\n",
    "\n",
    "    except:\n",
    "        raise Exception(f\"{volume_path} : path does not exists\")"
   ]
  },
  {
   "cell_type": "code",
   "execution_count": 3,
   "id": "792ede44",
   "metadata": {},
   "outputs": [],
   "source": [
    "def load_volume2(volume_path):\n",
    "    \"\"\"Load the volume from the path provided.\n",
    "\n",
    "    Args:\n",
    "    volume_path (str): Path to the volume.\n",
    "\n",
    "    Returns:\n",
    "    vol (numpy array): The volume loaded from the path.\n",
    "\n",
    "    Raises:\n",
    "    Exception: If the path does not exist, raises an exception.\n",
    "    \"\"\"\n",
    "    try:\n",
    "        tiffs = os.listdir(volume_path)\n",
    "\n",
    "        slices = Tcl().call('lsort', '-dict', tiffs)\n",
    "        shape = Image.open(os.path.join(volume_path, slices[0])).size\n",
    "        vol = np.empty(shape=(len(slices), shape[0], shape[1]), dtype=np.uint8)\n",
    "\n",
    "        # Temporary list to hold blank slices\n",
    "        blank_slices = []\n",
    "\n",
    "        for i, fname in enumerate(slices):\n",
    "            im = Image.open(os.path.join(volume_path, fname))\n",
    "            imarray = np.array(im)\n",
    "            \n",
    "            if np.all(imarray == 0):\n",
    "                blank_slices.append(imarray)\n",
    "            else:\n",
    "                vol[i - len(blank_slices), :, :] = imarray\n",
    "\n",
    "        # Append blank slices at the end\n",
    "        if len(blank_slices) > 0:\n",
    "            vol[-len(blank_slices):] = blank_slices\n",
    "\n",
    "        return vol\n",
    "\n",
    "    except:\n",
    "        raise Exception(f\"{volume_path} : path does not exist\")\n",
    "\n"
   ]
  },
  {
   "cell_type": "code",
   "execution_count": 4,
   "id": "e22711ee",
   "metadata": {},
   "outputs": [],
   "source": [
    "def interactive_visualize(arr, cmap='gray', **kwargs):\n",
    "    \"\"\"\n",
    "    This function creates an interactive visualization of the input array in 2D or 3D.\n",
    "\n",
    "    Parameters:\n",
    "    arr (ndarray): The input array to be visualized.\n",
    "    cmap (str): The colormap to use for the plot. Default is 'viridis'\n",
    "    **kwargs: Additional keyword arguments to be passed to plt.imshow.\n",
    "\n",
    "    Returns:\n",
    "    None\n",
    "    \"\"\"\n",
    "    \n",
    "    if arr.ndim == 2:\n",
    "        plt.imshow(arr, cmap=cmap, **kwargs)\n",
    "        plt.show()\n",
    "    elif arr.ndim == 3:\n",
    "    \n",
    "        slider = widgets.IntSlider(\n",
    "            min=0, max=arr.shape[0]-1, step=1, value=np.rint(arr.shape[0] / 2))\n",
    "\n",
    "        def visualize_morph(slice_number):\n",
    "            \"\"\"\n",
    "            This function plots the 3D visualization of the input array.\n",
    "\n",
    "            Parameters:\n",
    "            slice_number (int): The slice number of the input array to be visualized.\n",
    "\n",
    "            Returns:\n",
    "            None\n",
    "            \"\"\"\n",
    "            fig, (ax1, ax2, ax3) = plt.subplots(1, 3, figsize=(12,4))\n",
    "            plt.subplots_adjust(hspace=0.1, wspace=0.1)\n",
    "\n",
    "            ax1.imshow(arr[slice_number, :, :], cmap=cmap, **kwargs)\n",
    "            ax2.imshow(arr[:, slice_number, :], cmap=cmap, **kwargs)\n",
    "            ax2.set_xticks([])\n",
    "            ax2.set_yticks([])\n",
    "            ax3.imshow(arr[:, :, slice_number], cmap=cmap, **kwargs)\n",
    "            ax3.set_xticks([])\n",
    "            ax3.set_yticks([])\n",
    "            plt.show()\n",
    "\n",
    "\n",
    "        widgets.interact(visualize_morph, slice_number=slider)\n",
    "    \n",
    "    else:\n",
    "        raise ValueError(\"Input array must be either 2D or 3D.\")"
   ]
  },
  {
   "cell_type": "code",
   "execution_count": 5,
   "id": "5dbaeec8",
   "metadata": {},
   "outputs": [],
   "source": [
    "scan_path = 'E:\\\\Data\\\\sam_data\\\\new\\\\MD_1264_A5_1_Z0.0mm_corr_phrt\\\\roi\\\\0-300x1550-1850x2250-2550'"
   ]
  },
  {
   "cell_type": "code",
   "execution_count": 6,
   "id": "7d1fd517",
   "metadata": {},
   "outputs": [],
   "source": [
    "vol = load_volume(scan_path)"
   ]
  },
  {
   "cell_type": "code",
   "execution_count": 7,
   "id": "1174d3f1",
   "metadata": {},
   "outputs": [
    {
     "data": {
      "application/vnd.jupyter.widget-view+json": {
       "model_id": "46e65b5917504791b5bef83e37345b50",
       "version_major": 2,
       "version_minor": 0
      },
      "text/plain": [
       "interactive(children=(IntSlider(value=150, description='slice_number', max=299), Output()), _dom_classes=('wid…"
      ]
     },
     "metadata": {},
     "output_type": "display_data"
    }
   ],
   "source": [
    "interactive_visualize(vol)"
   ]
  },
  {
   "cell_type": "code",
   "execution_count": 8,
   "id": "e7fc920b",
   "metadata": {},
   "outputs": [],
   "source": [
    "vol2 = load_volume2(scan_path)"
   ]
  },
  {
   "cell_type": "code",
   "execution_count": 9,
   "id": "5e830412",
   "metadata": {},
   "outputs": [
    {
     "data": {
      "application/vnd.jupyter.widget-view+json": {
       "model_id": "c560f3a8d9794747ad4ea5cc407a9f34",
       "version_major": 2,
       "version_minor": 0
      },
      "text/plain": [
       "interactive(children=(IntSlider(value=150, description='slice_number', max=299), Output()), _dom_classes=('wid…"
      ]
     },
     "metadata": {},
     "output_type": "display_data"
    }
   ],
   "source": [
    "interactive_visualize(vol2)"
   ]
  },
  {
   "cell_type": "code",
   "execution_count": null,
   "id": "43dea0a8",
   "metadata": {},
   "outputs": [],
   "source": []
  }
 ],
 "metadata": {
  "kernelspec": {
   "display_name": "Python 3 (ipykernel)",
   "language": "python",
   "name": "python3"
  },
  "language_info": {
   "codemirror_mode": {
    "name": "ipython",
    "version": 3
   },
   "file_extension": ".py",
   "mimetype": "text/x-python",
   "name": "python",
   "nbconvert_exporter": "python",
   "pygments_lexer": "ipython3",
   "version": "3.9.13"
  }
 },
 "nbformat": 4,
 "nbformat_minor": 5
}
