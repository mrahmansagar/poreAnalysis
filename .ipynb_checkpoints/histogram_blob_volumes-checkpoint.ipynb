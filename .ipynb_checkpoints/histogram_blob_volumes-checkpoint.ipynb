{
 "cells": [
  {
   "cell_type": "code",
   "execution_count": 1,
   "id": "42076056",
   "metadata": {},
   "outputs": [],
   "source": [
    "import os\n",
    "import random \n",
    "from glob import glob \n",
    "import numpy as np \n",
    "import matplotlib.pyplot as plt \n",
    "from tqdm import tqdm \n",
    "import json\n",
    "\n",
    "from scipy.stats import norm\n",
    "\n",
    "from poreUtils import *\n"
   ]
  },
  {
   "cell_type": "code",
   "execution_count": 2,
   "id": "adf62ff1",
   "metadata": {},
   "outputs": [],
   "source": [
    "def NormalizeData(data):\n",
    "    return (data - np.min(data)) / (np.max(data) - np.min(data))\n"
   ]
  },
  {
   "cell_type": "code",
   "execution_count": 3,
   "id": "1f530a30",
   "metadata": {},
   "outputs": [],
   "source": [
    "root_dir = 'D:\\sagar\\Data'\n",
    "\n",
    "samples = os.listdir(root_dir)\n",
    "\n",
    "#result_path = os.path.join(root_dir, samples[0], 'result\\\\')\n",
    "\n",
    "#json_files = glob(result_path + '*.json')\n",
    "\n",
    "blob_volumes = []\n",
    "\n",
    "#for s in samples:\n",
    "sample_path = os.path.join(root_dir, 'MD_1264_A3_1_Z9.9mm', 'result')\n",
    "#print(sample_path)\n",
    "if os.path.exists(sample_path):\n",
    "    fpath = glob(sample_path+'\\*.json')\n",
    "    for f in fpath:\n",
    "        file = open(f)\n",
    "        data = json.load(file)\n",
    "        blob_volumes += data['blob_analysis']['result']['VOLUME']\n",
    "        "
   ]
  },
  {
   "cell_type": "code",
   "execution_count": 4,
   "id": "15633afc",
   "metadata": {},
   "outputs": [
    {
     "data": {
      "image/png": "[encoded data removed]",
      "text/plain": [
       "<Figure size 432x288 with 1 Axes>"
      ]
     },
     "metadata": {
      "needs_background": "light"
     },
     "output_type": "display_data"
    }
   ],
   "source": [
    "norm_blob_volumes = NormalizeData(blob_volumes)\n",
    "        \n",
    "plt.hist(blob_volumes, bins=100, range=(0, 0.000005))  \n",
    "plt.show()"
   ]
  },
  {
   "cell_type": "code",
   "execution_count": null,
   "id": "9ca8aa91",
   "metadata": {},
   "outputs": [],
   "source": []
  },
  {
   "cell_type": "code",
   "execution_count": null,
   "id": "1de002e3",
   "metadata": {},
   "outputs": [],
   "source": [
    "# Fit a normal distribution to\n",
    "# the data:\n",
    "# mean and standard deviation\n",
    "mu, std = norm.fit(blob_volumes)\n",
    "\n",
    "# Plot the PDF.\n",
    "xmin, xmax = plt.xlim()\n",
    "x = np.linspace(xmin, xmax, 100)\n",
    "p = norm.pdf(x, mu, std)\n",
    "  \n",
    "plt.plot(x, p, 'k', linewidth=1)\n",
    "title = \"Fit Values: {:.2f} and {:.2f}\".format(mu, std)\n",
    "plt.title(title)\n",
    "  \n",
    "plt.show()"
   ]
  },
  {
   "cell_type": "code",
   "execution_count": 10,
   "id": "058868f1",
   "metadata": {},
   "outputs": [],
   "source": [
    "scans = []\n",
    "for p in os.listdir(root_dir):\n",
    "    file_path = os.path.join(root_dir, p, 'result')\n",
    "    if os.path.exists(file_path):\n",
    "        scans.append(p)"
   ]
  },
  {
   "cell_type": "code",
   "execution_count": 6,
   "id": "3f1a3b00",
   "metadata": {},
   "outputs": [],
   "source": [
    "import ipywidgets as widgets \n",
    "from ipywidgets import VBox, HBox"
   ]
  },
  {
   "cell_type": "code",
   "execution_count": 12,
   "id": "53b06838",
   "metadata": {},
   "outputs": [
    {
     "data": {
      "application/vnd.jupyter.widget-view+json": {
       "model_id": "11dbb7658665456286b24507091fde9d",
       "version_major": 2,
       "version_minor": 0
      },
      "text/plain": [
       "interactive(children=(Dropdown(description='Scan', options=('MD_1264_A10_Z6.6mm', 'MD_1264_A11_Z3.3mm_corr_phr…"
      ]
     },
     "metadata": {},
     "output_type": "display_data"
    },
    {
     "data": {
      "text/plain": [
       "<function __main__.his_cmp(aFile, h_bin)>"
      ]
     },
     "execution_count": 12,
     "metadata": {},
     "output_type": "execute_result"
    }
   ],
   "source": [
    "select_scan = widgets.Dropdown(\n",
    "options = scans,\n",
    "value = scans[0],\n",
    "description = 'Scan',\n",
    "disabled = False \n",
    ")\n",
    "\n",
    "slider = widgets.IntSlider(min=1, max=200, value=100, description='Bin')\n",
    "\n",
    "def his_cmp(aFile, h_bin):\n",
    "    fpath = os.path.join(root_dir, aFile, 'result')\n",
    "    fpath = glob(fpath+'\\*.json')\n",
    "    blob_volumes = []\n",
    "    for f in fpath:\n",
    "        file = open(f)\n",
    "        data = json.load(file)\n",
    "        blob_volumes += data['blob_analysis']['result']['VOLUME']\n",
    "        file.close()\n",
    "    norm_blob_volumes = NormalizeData(blob_volumes)\n",
    "    plt.figure(figsize=(16,9))\n",
    "    plt.hist(norm_blob_volumes, bins=h_bin, range=(0, 0.000005))  \n",
    "    plt.show()\n",
    "    \n",
    "widgets.interact(his_cmp, aFile=select_scan, h_bin=slider)"
   ]
  },
  {
   "cell_type": "code",
   "execution_count": null,
   "id": "6d66c38e",
   "metadata": {},
   "outputs": [],
   "source": []
  }
 ],
 "metadata": {
  "kernelspec": {
   "display_name": "Python 3 (ipykernel)",
   "language": "python",
   "name": "python3"
  },
  "language_info": {
   "codemirror_mode": {
    "name": "ipython",
    "version": 3
   },
   "file_extension": ".py",
   "mimetype": "text/x-python",
   "name": "python",
   "nbconvert_exporter": "python",
   "pygments_lexer": "ipython3",
   "version": "3.9.7"
  }
 },
 "nbformat": 4,
 "nbformat_minor": 5
}
