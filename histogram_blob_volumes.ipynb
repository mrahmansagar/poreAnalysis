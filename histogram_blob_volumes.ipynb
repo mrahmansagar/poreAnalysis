{
 "cells": [
  {
   "cell_type": "markdown",
   "id": "05de65c1",
   "metadata": {},
   "source": [
    "### Histogram of counted volumes per roi using pypore3d"
   ]
  },
  {
   "cell_type": "code",
   "execution_count": 1,
   "id": "42076056",
   "metadata": {},
   "outputs": [],
   "source": [
    "import os\n",
    "import random \n",
    "from glob import glob \n",
    "import numpy as np \n",
    "import matplotlib.pyplot as plt \n",
    "from tqdm import tqdm \n",
    "import json\n",
    "\n",
    "from scipy.stats import norm\n",
    "\n",
    "from poreUtils import *\n"
   ]
  },
  {
   "cell_type": "code",
   "execution_count": 2,
   "id": "adf62ff1",
   "metadata": {},
   "outputs": [],
   "source": [
    "def NormalizeData(data):\n",
    "    return (data - np.min(data)) / (np.max(data) - np.min(data))\n"
   ]
  },
  {
   "cell_type": "code",
   "execution_count": 3,
   "id": "9ca8aa91",
   "metadata": {},
   "outputs": [],
   "source": [
    "# Directory where the scans are stored with results \n",
    "root_dir = 'D:\\sagar\\Data'"
   ]
  },
  {
   "cell_type": "code",
   "execution_count": 4,
   "id": "058868f1",
   "metadata": {},
   "outputs": [],
   "source": [
    "# Getting the scans where pypore3d analysis has been run \n",
    "scans = []\n",
    "for p in os.listdir(root_dir):\n",
    "    file_path = os.path.join(root_dir, p, 'result')\n",
    "    if os.path.exists(file_path):\n",
    "        scans.append(p)\n",
    "                "
   ]
  },
  {
   "cell_type": "code",
   "execution_count": 5,
   "id": "58a58bf7",
   "metadata": {},
   "outputs": [
    {
     "name": "stdout",
     "output_type": "stream",
     "text": [
      "8e-09 0.09666240000000001\n"
     ]
    }
   ],
   "source": [
    "# Getting all the blob volumes to find the global minimum and maximum for scaling\n",
    "for s in scans:\n",
    "    result_path = os.path.join(root_dir, s, 'result')\n",
    "    json_path = glob(result_path + '\\*.json')\n",
    "    blobs = []\n",
    "    for f in json_path:\n",
    "        file = open(f)\n",
    "        data = json.load(file)\n",
    "        blobs += data['blob_analysis']['result']['VOLUME']\n",
    "        file.close()\n",
    "\n",
    "global_min = min(blobs)\n",
    "global_max = max(blobs)\n",
    "\n",
    "print(global_min, global_max)"
   ]
  },
  {
   "cell_type": "code",
   "execution_count": 6,
   "id": "5077508d",
   "metadata": {},
   "outputs": [],
   "source": [
    "# Normalization function for global min max \n",
    "def globNorm(data, gmin, gmax):\n",
    "    return (data - gmin) / (gmax - gmin)"
   ]
  },
  {
   "cell_type": "code",
   "execution_count": 7,
   "id": "3f1a3b00",
   "metadata": {},
   "outputs": [],
   "source": [
    "\n",
    "import ipywidgets as widgets \n",
    "from ipywidgets import VBox, HBox"
   ]
  },
  {
   "cell_type": "code",
   "execution_count": 8,
   "id": "53b06838",
   "metadata": {
    "scrolled": false
   },
   "outputs": [
    {
     "data": {
      "application/vnd.jupyter.widget-view+json": {
       "model_id": "bc5175879ece4f33a44a3ab6ca8a4091",
       "version_major": 2,
       "version_minor": 0
      },
      "text/plain": [
       "VBox(children=(HBox(children=(SelectMultiple(description='Scan', index=(0,), options=('MD_1264_A10_Z6.6mm', 'M…"
      ]
     },
     "metadata": {},
     "output_type": "display_data"
    },
    {
     "data": {
      "application/vnd.jupyter.widget-view+json": {
       "model_id": "11e2f56f8273448e8fe918a78198b032",
       "version_major": 2,
       "version_minor": 0
      },
      "text/plain": [
       "Output()"
      ]
     },
     "metadata": {},
     "output_type": "display_data"
    }
   ],
   "source": [
    "# Menu for selecting the sacns for plotting the histogram  \n",
    "select_scan = widgets.SelectMultiple(\n",
    "    options = scans,\n",
    "    value = [scans[0]],\n",
    "    description = 'Scan',\n",
    "    disabled = False,\n",
    "    rows = 10\n",
    ")\n",
    "\n",
    "# Text box for min range for histogram plot\n",
    "min_range = widgets.BoundedFloatText(\n",
    "    value=0.000001,\n",
    "    min=0,\n",
    "    max=10.0,\n",
    "    step=0.0000005,\n",
    "    description='range: min:',\n",
    "    disabled=False\n",
    ")\n",
    "\n",
    "# Text box for max range for histogram plot\n",
    "max_range = widgets.BoundedFloatText(\n",
    "    value=0.000005,\n",
    "    min=0,\n",
    "    max=1,\n",
    "    step=0.0000005,\n",
    "    description='range: max:',\n",
    "    disabled=False\n",
    ")\n",
    "\n",
    "# Slider interface for selecting the bins for the histogram \n",
    "slider = widgets.IntSlider(min=1, max=200, value=100, description='Bin')\n",
    "\n",
    "# Toggle button for normalization on the x axis \n",
    "normX_btn = widgets.ToggleButton(\n",
    "            value=False,\n",
    "            description='Glo.Norm. X',\n",
    "            disabled=False,\n",
    "            )\n",
    "\n",
    "# Toggle button for normalization on the y axis \n",
    "normY_btn = widgets.ToggleButton(\n",
    "            value=True,\n",
    "            description='Norm. Y',\n",
    "            disabled=False,\n",
    "            )\n",
    "# Layout of the control options \n",
    "ui = VBox([HBox([select_scan, normX_btn, normY_btn]), HBox([slider, min_range, max_range])])\n",
    "\n",
    "# Function that is used in interactive mode \n",
    "def his_cmp(picked_scans, h_bin, rn_min, rn_max, normX, normY, gbmin=global_min, gbmax=global_max):\n",
    "    \n",
    "    plt.figure(figsize=(16,9))\n",
    "    \n",
    "    for aFile in picked_scans:\n",
    "        fpath = os.path.join(root_dir, aFile, 'result')\n",
    "        fpath = glob(fpath+'\\*.json')\n",
    "        blob_volumes = []\n",
    "        for f in fpath:\n",
    "            file = open(f)\n",
    "            data = json.load(file)\n",
    "            blob_volumes += data['blob_analysis']['result']['VOLUME']\n",
    "            file.close()\n",
    "        if normX: \n",
    "            blob_volumes = np.asarray(blob_volumes)\n",
    "            blob_volumes = globNorm(blob_volumes, gbmin, gbmax)\n",
    "\n",
    "        if normY:\n",
    "            weights = np.ones_like(blob_volumes)/float(len(blob_volumes))\n",
    "            #density= True\n",
    "        else:\n",
    "            weights = None\n",
    "            #density = False\n",
    "        \n",
    "        plt.hist(blob_volumes, bins=h_bin, range=(rn_min, rn_max), weights=weights, histtype='step', label=aFile)\n",
    "        plt.legend()\n",
    "\n",
    "    plt.show()\n",
    "    \n",
    "out = widgets.interactive_output(his_cmp, {'picked_scans':select_scan, 'h_bin':slider, 'rn_min':min_range, 'rn_max':max_range, 'normX':normX_btn, 'normY':normY_btn})\n",
    "\n",
    "display(ui, out)"
   ]
  },
  {
   "cell_type": "code",
   "execution_count": null,
   "id": "374349ca",
   "metadata": {},
   "outputs": [],
   "source": []
  }
 ],
 "metadata": {
  "kernelspec": {
   "display_name": "base",
   "language": "python",
   "name": "python3"
  },
  "language_info": {
   "codemirror_mode": {
    "name": "ipython",
    "version": 3
   },
   "file_extension": ".py",
   "mimetype": "text/x-python",
   "name": "python",
   "nbconvert_exporter": "python",
   "pygments_lexer": "ipython3",
   "version": "3.9.7"
  },
  "vscode": {
   "interpreter": {
    "hash": "ad2bdc8ecc057115af97d19610ffacc2b4e99fae6737bb82f5d7fb13d2f2c186"
   }
  }
 },
 "nbformat": 4,
 "nbformat_minor": 5
}
