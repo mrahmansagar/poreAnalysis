{
 "cells": [
  {
   "attachments": {},
   "cell_type": "markdown",
   "metadata": {},
   "source": [
    "This the notebook where a whole sample is loaded and depending on the information of extracted roi visualize the roi squares on top of the sample slices "
   ]
  },
  {
   "cell_type": "code",
   "execution_count": 1,
   "metadata": {},
   "outputs": [],
   "source": [
    "import os \n",
    "from PIL import Image\n",
    "import numpy as np\n",
    "import matplotlib.pyplot as plt\n",
    "from tqdm.notebook import tqdm\n",
    "import ipywidgets as widgets\n",
    "\n",
    "import tifffile\n",
    "\n",
    "from poreUtils import *"
   ]
  },
  {
   "cell_type": "code",
   "execution_count": 2,
   "metadata": {},
   "outputs": [],
   "source": [
    "# Path to the slices \n",
    "# data_dir = 'E:\\\\Data\\\\sam_data\\\\new\\\\MD_1264_B10_Z0.0mm\\\\slices'\n",
    "data_dir = 'F:\\\\MD_1264_A16_Z3.3mm_corr_phrt\\\\slices'\n",
    "tiffs = os.listdir(data_dir)"
   ]
  },
  {
   "cell_type": "code",
   "execution_count": 3,
   "metadata": {},
   "outputs": [
    {
     "data": {
      "application/vnd.jupyter.widget-view+json": {
       "model_id": "1d0d112c7afb409383ee4d1fa722af19",
       "version_major": 2,
       "version_minor": 0
      },
      "text/plain": [
       "  0%|          | 0/1700 [00:00<?, ?it/s]"
      ]
     },
     "metadata": {},
     "output_type": "display_data"
    },
    {
     "name": "stderr",
     "output_type": "stream",
     "text": [
      "e:\\projects\\poreAnalysis\\poreUtils.py:127: RuntimeWarning: invalid value encountered in subtract\n",
      "  v = ((v - minVal)/maxVal) * 255\n"
     ]
    }
   ],
   "source": [
    "# Reading all the slices in a Volume \n",
    "vol = np.empty(shape=(1700, 3686, 3686), dtype=np.uint8)\n",
    "for i, fname in enumerate(tqdm(tiffs)):\n",
    "    im = Image.open(os.path.join(data_dir, fname))\n",
    "    imarray = np.array(im)\n",
    "    imarray = np.clip(imarray, 0.0005, 0.003)\n",
    "    imarray = norm8bit(imarray)\n",
    "    vol[i, :, :] = imarray"
   ]
  },
  {
   "cell_type": "code",
   "execution_count": 4,
   "metadata": {},
   "outputs": [],
   "source": [
    "# take selected roi from corresponding directory\n",
    "roi_dir = \"E:\\\\Data\\\\sam_data\\\\new\\\\MD_1264_A16_Z3.3mm_corr_phrt\\\\roi\"\n",
    "selected_rois = os.listdir(roi_dir) "
   ]
  },
  {
   "cell_type": "code",
   "execution_count": 5,
   "metadata": {},
   "outputs": [],
   "source": [
    "# filtering rois according to the z stack \n",
    "grouped_rois = {}\n",
    "for r in selected_rois:\n",
    "    grp = r.split('x')[0]\n",
    "    if grp in grouped_rois:\n",
    "            grouped_rois[grp].append(r)\n",
    "    else:\n",
    "        grouped_rois[grp] = [r]\n",
    "    "
   ]
  },
  {
   "cell_type": "code",
   "execution_count": 7,
   "metadata": {},
   "outputs": [],
   "source": [
    "def visualize_selected_roi(arr, grp_roi, cmap='gray', **kwargs):\n",
    "    \"\"\"\n",
    "    This function creates an interactive visualization of the input array in 2D or 3D.\n",
    "\n",
    "    Parameters:\n",
    "    arr (ndarray): The input array to be visualized.\n",
    "    cmap (str): The colormap to use for the plot. Default is 'viridis'\n",
    "    **kwargs: Additional keyword arguments to be passed to plt.imshow.\n",
    "\n",
    "    Returns:\n",
    "    None\n",
    "    \"\"\"\n",
    "    select_roi_range = widgets.Dropdown(options=grp_roi.keys(), description='Select option:')\n",
    "\n",
    "    def select_vis_range(vis_range):\n",
    "        print(vis_range)\n",
    "\n",
    "    \n",
    "        slider = widgets.IntSlider(\n",
    "            min=int(vis_range.split('-')[0]), max=int(vis_range.split('-')[1])-1, step=1, value=int(vis_range.split('-')[0]))\n",
    "\n",
    "        def visualizeation(slice_number):\n",
    "            \"\"\"\n",
    "            This function plots the 3D visualization of the input array.\n",
    "\n",
    "            Parameters:\n",
    "            slice_number (int): The slice number of the input array to be visualized.\n",
    "\n",
    "            Returns:\n",
    "            None\n",
    "            \"\"\"\n",
    "            fig, ax = plt.subplots(figsize=(16,9))\n",
    "            for aroi in grp_roi[vis_range]:\n",
    "                roi_xrange = aroi.split('x')[2]\n",
    "                x = roi_xrange.split('-')[0]\n",
    "                roi_yrange = aroi.split('x')[1]\n",
    "                y = roi_yrange.split('-')[0]\n",
    "\n",
    "                rect = plt.Rectangle((int(x), int(y)), 300, 300, fill=False, edgecolor='r', lw=1)\n",
    "                ax.add_patch(rect)\n",
    "\n",
    "            # plt.subplots_adjust(hspace=0.1, wspace=0.1)\n",
    "            ax.imshow(arr[slice_number, :, :], cmap=cmap, **kwargs)\n",
    "            plt.show()\n",
    "\n",
    "\n",
    "        widgets.interact(visualizeation, slice_number=slider)\n",
    "    \n",
    "    widgets.interact(select_vis_range, vis_range=select_roi_range)\n",
    "    "
   ]
  },
  {
   "cell_type": "code",
   "execution_count": 8,
   "metadata": {},
   "outputs": [
    {
     "data": {
      "application/vnd.jupyter.widget-view+json": {
       "model_id": "0fdfc20cefa6431ca4b25410f7e3a97f",
       "version_major": 2,
       "version_minor": 0
      },
      "text/plain": [
       "interactive(children=(Dropdown(description='Select option:', options=('0-300', '200-500', '400-700', '600-900'…"
      ]
     },
     "metadata": {},
     "output_type": "display_data"
    }
   ],
   "source": [
    "visualize_selected_roi(vol, grouped_rois)"
   ]
  },
  {
   "cell_type": "code",
   "execution_count": null,
   "metadata": {},
   "outputs": [],
   "source": []
  }
 ],
 "metadata": {
  "kernelspec": {
   "display_name": "poreAnalysis",
   "language": "python",
   "name": "python3"
  },
  "language_info": {
   "codemirror_mode": {
    "name": "ipython",
    "version": 3
   },
   "file_extension": ".py",
   "mimetype": "text/x-python",
   "name": "python",
   "nbconvert_exporter": "python",
   "pygments_lexer": "ipython3",
   "version": "3.9.13"
  },
  "orig_nbformat": 4
 },
 "nbformat": 4,
 "nbformat_minor": 2
}
